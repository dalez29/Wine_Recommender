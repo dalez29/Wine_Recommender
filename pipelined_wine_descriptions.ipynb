{
 "cells": [
  {
   "cell_type": "code",
   "execution_count": 1,
   "metadata": {},
   "outputs": [
    {
     "name": "stderr",
     "output_type": "stream",
     "text": [
      "[nltk_data] Downloading package stopwords to\n",
      "[nltk_data]     /Users/davidalvarez/nltk_data...\n",
      "[nltk_data]   Package stopwords is already up-to-date!\n"
     ]
    }
   ],
   "source": [
    "import numpy as np\n",
    "import pandas as pd\n",
    "from sklearn.metrics.pairwise import cosine_similarity\n",
    "from sklearn.feature_extraction.text import TfidfVectorizer, CountVectorizer\n",
    "from nltk.stem.porter import PorterStemmer\n",
    "from nltk.stem.wordnet import WordNetLemmatizer\n",
    "import nltk\n",
    "#nltk.download('stopwords')\n",
    "from nltk.corpus import stopwords\n",
    "from rake_nltk import Rake"
   ]
  },
  {
   "cell_type": "code",
   "execution_count": 2,
   "metadata": {},
   "outputs": [
    {
     "data": {
      "text/html": [
       "<div>\n",
       "<style scoped>\n",
       "    .dataframe tbody tr th:only-of-type {\n",
       "        vertical-align: middle;\n",
       "    }\n",
       "\n",
       "    .dataframe tbody tr th {\n",
       "        vertical-align: top;\n",
       "    }\n",
       "\n",
       "    .dataframe thead th {\n",
       "        text-align: right;\n",
       "    }\n",
       "</style>\n",
       "<table border=\"1\" class=\"dataframe\">\n",
       "  <thead>\n",
       "    <tr style=\"text-align: right;\">\n",
       "      <th></th>\n",
       "      <th>Unnamed: 0</th>\n",
       "      <th>country</th>\n",
       "      <th>description</th>\n",
       "      <th>designation</th>\n",
       "      <th>points</th>\n",
       "      <th>price</th>\n",
       "      <th>province</th>\n",
       "      <th>region_1</th>\n",
       "      <th>region_2</th>\n",
       "      <th>taster_name</th>\n",
       "      <th>taster_twitter_handle</th>\n",
       "      <th>title</th>\n",
       "      <th>variety</th>\n",
       "      <th>winery</th>\n",
       "    </tr>\n",
       "  </thead>\n",
       "  <tbody>\n",
       "    <tr>\n",
       "      <td>0</td>\n",
       "      <td>0</td>\n",
       "      <td>Italy</td>\n",
       "      <td>Aromas include tropical fruit, broom, brimston...</td>\n",
       "      <td>Vulkà Bianco</td>\n",
       "      <td>87</td>\n",
       "      <td>NaN</td>\n",
       "      <td>Sicily &amp; Sardinia</td>\n",
       "      <td>Etna</td>\n",
       "      <td>NaN</td>\n",
       "      <td>Kerin O’Keefe</td>\n",
       "      <td>@kerinokeefe</td>\n",
       "      <td>Nicosia 2013 Vulkà Bianco  (Etna)</td>\n",
       "      <td>White Blend</td>\n",
       "      <td>Nicosia</td>\n",
       "    </tr>\n",
       "    <tr>\n",
       "      <td>1</td>\n",
       "      <td>1</td>\n",
       "      <td>Portugal</td>\n",
       "      <td>This is ripe and fruity, a wine that is smooth...</td>\n",
       "      <td>Avidagos</td>\n",
       "      <td>87</td>\n",
       "      <td>15.0</td>\n",
       "      <td>Douro</td>\n",
       "      <td>NaN</td>\n",
       "      <td>NaN</td>\n",
       "      <td>Roger Voss</td>\n",
       "      <td>@vossroger</td>\n",
       "      <td>Quinta dos Avidagos 2011 Avidagos Red (Douro)</td>\n",
       "      <td>Portuguese Red</td>\n",
       "      <td>Quinta dos Avidagos</td>\n",
       "    </tr>\n",
       "  </tbody>\n",
       "</table>\n",
       "</div>"
      ],
      "text/plain": [
       "   Unnamed: 0   country                                        description  \\\n",
       "0           0     Italy  Aromas include tropical fruit, broom, brimston...   \n",
       "1           1  Portugal  This is ripe and fruity, a wine that is smooth...   \n",
       "\n",
       "    designation  points  price           province region_1 region_2  \\\n",
       "0  Vulkà Bianco      87    NaN  Sicily & Sardinia     Etna      NaN   \n",
       "1      Avidagos      87   15.0              Douro      NaN      NaN   \n",
       "\n",
       "     taster_name taster_twitter_handle  \\\n",
       "0  Kerin O’Keefe          @kerinokeefe   \n",
       "1     Roger Voss            @vossroger   \n",
       "\n",
       "                                           title         variety  \\\n",
       "0              Nicosia 2013 Vulkà Bianco  (Etna)     White Blend   \n",
       "1  Quinta dos Avidagos 2011 Avidagos Red (Douro)  Portuguese Red   \n",
       "\n",
       "                winery  \n",
       "0              Nicosia  \n",
       "1  Quinta dos Avidagos  "
      ]
     },
     "execution_count": 2,
     "metadata": {},
     "output_type": "execute_result"
    }
   ],
   "source": [
    "# load dataset\n",
    "wine = pd.read_csv('winemag-data-130k-v2.csv')\n",
    "wine.head(2)"
   ]
  },
  {
   "cell_type": "code",
   "execution_count": 3,
   "metadata": {},
   "outputs": [
    {
     "data": {
      "text/plain": [
       "708"
      ]
     },
     "execution_count": 3,
     "metadata": {},
     "output_type": "execute_result"
    }
   ],
   "source": [
    "# Get a set of all the varieties\n",
    "varieties = set(wine['variety'])\n",
    "len(varieties)"
   ]
  },
  {
   "cell_type": "code",
   "execution_count": 4,
   "metadata": {},
   "outputs": [
    {
     "data": {
      "text/plain": [
       "179"
      ]
     },
     "execution_count": 4,
     "metadata": {},
     "output_type": "execute_result"
    }
   ],
   "source": [
    "# Get a set of all English stop words\n",
    "english_stop_words = set(stopwords.words('english'))\n",
    "len(english_stop_words)\n"
   ]
  },
  {
   "cell_type": "code",
   "execution_count": 5,
   "metadata": {},
   "outputs": [],
   "source": [
    "# Working set of fluff words\n",
    "new_words = set([\"alongside\", \"include\", \"offering\", \"already\", \"certainly\", \"although\", \"rather\", \"comes\", \"nonetheless\", \"wine\"])"
   ]
  },
  {
   "cell_type": "code",
   "execution_count": 6,
   "metadata": {},
   "outputs": [
    {
     "data": {
      "text/plain": [
       "897"
      ]
     },
     "execution_count": 6,
     "metadata": {},
     "output_type": "execute_result"
    }
   ],
   "source": [
    "# Combine English stop words, varieties and fluff words into one big set of stop words to avoid data leakage\n",
    "stop_words = varieties | english_stop_words | new_words\n",
    "len(stop_words)"
   ]
  },
  {
   "cell_type": "code",
   "execution_count": 7,
   "metadata": {},
   "outputs": [
    {
     "data": {
      "text/plain": [
       "0         [dried sage alongside brisk acidity, aromas in...\n",
       "1         [juicy red berry fruits, still structured, fir...\n",
       "2         [green pineapple pokes, crisp acidity undersco...\n",
       "3         [orange blossom start, mango giving way, sligh...\n",
       "4         [pleasantly unfussy country wine, hearty winte...\n",
       "                                ...                        \n",
       "129966    [yet wraps, tart tangerine, light spätlese, in...\n",
       "129967    [secondary fruit compote highlights, coconut f...\n",
       "129968    [drained gravel soil gives, serious structure,...\n",
       "129969    [structure still developing, baked apple flavo...\n",
       "129970    [rounded texture, opulent feel, lychees domina...\n",
       "Name: description, Length: 129971, dtype: object"
      ]
     },
     "execution_count": 7,
     "metadata": {},
     "output_type": "execute_result"
    }
   ],
   "source": [
    "# Use RAKE (Rapid Automatic Keyword Extraction algorithm) to extract keywords and lowercase\n",
    "r = Rake()    \n",
    "\n",
    "def rake_implement(x,r):\n",
    "    r.extract_keywords_from_text(x)\n",
    "    return r.get_ranked_phrases()\n",
    "\n",
    "descriptions = wine['description'].apply(lambda x: rake_implement(x,r))\n",
    "descriptions"
   ]
  },
  {
   "cell_type": "code",
   "execution_count": 8,
   "metadata": {},
   "outputs": [],
   "source": [
    "# # Get the textual descriptions of the wines and make lowercase\n",
    "# descriptions = wine['description'].str.lower()\n",
    "# # remove anything that is not a letter:\n",
    "# def remove_nonletters(description):\n",
    "#     return ''.join([letter for letter in description if letter in 'abcdefghijklmnopqrstuvwxyz ']).split()\n",
    "# descriptions = descriptions.apply(remove_nonletters)\n",
    "# descriptions.head()"
   ]
  },
  {
   "cell_type": "code",
   "execution_count": 9,
   "metadata": {},
   "outputs": [
    {
     "data": {
      "text/plain": [
       "0    dried sage alongside brisk acidity aromas incl...\n",
       "1    juicy red berry fruits still structured firm t...\n",
       "2    green pineapple pokes crisp acidity underscori...\n",
       "3    orange blossom start mango giving way slightly...\n",
       "4    pleasantly unfussy country wine hearty winter ...\n",
       "Name: description, dtype: object"
      ]
     },
     "execution_count": 9,
     "metadata": {},
     "output_type": "execute_result"
    }
   ],
   "source": [
    "# Lemmatizing words and joining without commas\n",
    "lemmatizer = WordNetLemmatizer()\n",
    "def lemmatize(description):\n",
    "    return map(lemmatizer.lemmatize, description)\n",
    "lemmatized_descriptions = descriptions.map(lemmatize).str.join(' ')\n",
    "lemmatized_descriptions.head()"
   ]
  },
  {
   "cell_type": "code",
   "execution_count": 10,
   "metadata": {},
   "outputs": [],
   "source": [
    "stemmer = PorterStemmer()\n",
    "# def stem(description):\n",
    "#     return map(stemmer.stem, description)\n",
    "# stemmed_descriptions = lemmatized_descriptions.map(stem).str.join(' ')\n",
    "# stemmed_descriptions.head()\n"
   ]
  },
  {
   "cell_type": "code",
   "execution_count": 11,
   "metadata": {},
   "outputs": [],
   "source": [
    "# 0    aroma includ tropic fruit broom brimston and d...\n",
    "# 1    thi is ripe and fruiti a wine that is smooth w...\n",
    "# 2    tart and snappi the flavor of lime flesh and r...\n",
    "# 3    pineappl rind lemon pith and orang blossom sta...\n",
    "# 4    much like the regular bottl from thi come acro...\n",
    "# Name: description, dtype: object"
   ]
  },
  {
   "cell_type": "code",
   "execution_count": 12,
   "metadata": {},
   "outputs": [
    {
     "data": {
      "text/plain": [
       "matrix([[0., 0., 0., ..., 0., 0., 0.],\n",
       "        [0., 0., 0., ..., 0., 0., 0.],\n",
       "        [0., 0., 0., ..., 0., 0., 0.],\n",
       "        ...,\n",
       "        [0., 0., 0., ..., 0., 0., 0.],\n",
       "        [0., 0., 0., ..., 0., 0., 0.],\n",
       "        [0., 0., 0., ..., 0., 0., 0.]])"
      ]
     },
     "execution_count": 12,
     "metadata": {},
     "output_type": "execute_result"
    }
   ],
   "source": [
    "# Vectorizing descriptions and creating matrix\n",
    "tfidf_vectorizer = TfidfVectorizer(use_idf=False, stop_words=stop_words, max_features=2500, binary=True)\n",
    "tfidf_matrix = tfidf_vectorizer.fit_transform(lemmatized_descriptions)\n",
    "tfidf_matrix.todense()"
   ]
  },
  {
   "cell_type": "code",
   "execution_count": 14,
   "metadata": {},
   "outputs": [
    {
     "data": {
      "text/plain": [
       "'apple brimstone sage fruit citrus herb'"
      ]
     },
     "execution_count": 14,
     "metadata": {},
     "output_type": "execute_result"
    }
   ],
   "source": [
    "# Take in an input and preprocess\n",
    "# Note: this is actually a description of Stranahan's Colorado Single Malt\n",
    "# which is a whiskey, not a wine\n",
    "\n",
    "# new_description = '''Vanilla and brown sugar, plus a hefty dose of \n",
    "# dried apricot and peppery spice. This Colorado single malt shows off\n",
    "# textbook American oak-derived flavors.'''\n",
    "\n",
    "#new_description = wine.description[351]\n",
    "\n",
    "new_description = \"apple, brimstone, sage, fruit, citrus, herb\"\n",
    "\n",
    "new_description = new_description.lower()\n",
    "new_description = ''.join([i for i in new_description if i in 'abcdefghijklmnopqrstuvwxzy '])\n",
    "new_description = map(lemmatizer.lemmatize, new_description)\n",
    "new_description = ''.join(map(stemmer.stem, new_description))\n",
    "new_description"
   ]
  },
  {
   "cell_type": "code",
   "execution_count": 15,
   "metadata": {},
   "outputs": [
    {
     "data": {
      "text/plain": [
       "<1x2500 sparse matrix of type '<class 'numpy.float64'>'\n",
       "\twith 5 stored elements in Compressed Sparse Row format>"
      ]
     },
     "execution_count": 15,
     "metadata": {},
     "output_type": "execute_result"
    }
   ],
   "source": [
    "# Vectorize input\n",
    "new_vector = tfidf_vectorizer.transform([new_description])\n",
    "new_vector"
   ]
  },
  {
   "cell_type": "code",
   "execution_count": 16,
   "metadata": {},
   "outputs": [],
   "source": [
    "# new_vector = count_vectorizer.transform([new_description])\n",
    "# new_vector"
   ]
  },
  {
   "cell_type": "code",
   "execution_count": 17,
   "metadata": {},
   "outputs": [
    {
     "data": {
      "text/plain": [
       "array([[0.5976143 , 0.        , 0.        , ..., 0.        , 0.09534626,\n",
       "        0.1118034 ]])"
      ]
     },
     "execution_count": 17,
     "metadata": {},
     "output_type": "execute_result"
    }
   ],
   "source": [
    "# Find cosine similarity of input and description matrix\n",
    "similarities = cosine_similarity(new_vector, tfidf_matrix)\n",
    "similarities"
   ]
  },
  {
   "cell_type": "code",
   "execution_count": 19,
   "metadata": {},
   "outputs": [
    {
     "data": {
      "text/plain": [
       "(1, 129971)"
      ]
     },
     "execution_count": 19,
     "metadata": {},
     "output_type": "execute_result"
    }
   ],
   "source": [
    "similarities.shape"
   ]
  },
  {
   "cell_type": "code",
   "execution_count": 92,
   "metadata": {},
   "outputs": [
    {
     "data": {
      "text/plain": [
       "array([1, 0, 2])"
      ]
     },
     "execution_count": 92,
     "metadata": {},
     "output_type": "execute_result"
    }
   ],
   "source": [
    "np.argsort(similarities[0][-4:-1])"
   ]
  },
  {
   "cell_type": "code",
   "execution_count": 143,
   "metadata": {},
   "outputs": [
    {
     "name": "stdout",
     "output_type": "stream",
     "text": [
      "0\n",
      "[     0 124533  43376]\n"
     ]
    }
   ],
   "source": [
    "# Extract most similar index\n",
    "most_similar_index = np.argsort(similarities)[0][-1]\n",
    "most_similar_indices = np.argsort(similarities)[0][-1:-4:-1]\n",
    "print(most_similar_index)\n",
    "print(most_similar_indices)"
   ]
  },
  {
   "cell_type": "code",
   "execution_count": 54,
   "metadata": {},
   "outputs": [
    {
     "data": {
      "text/plain": [
       "'dried sage alongside brisk acidity aromas include tropical fruit offering unripened apple dried herb overly expressive palate citrus broom brimstone'"
      ]
     },
     "execution_count": 54,
     "metadata": {},
     "output_type": "execute_result"
    }
   ],
   "source": [
    "# Extract most similar description\n",
    "most_similar_description = ' '.join(descriptions[most_similar_index])\n",
    "most_similar_description"
   ]
  },
  {
   "cell_type": "code",
   "execution_count": 55,
   "metadata": {},
   "outputs": [
    {
     "name": "stdout",
     "output_type": "stream",
     "text": [
      "{'brimstone', 'apple', 'sage', 'herb', 'citrus', 'fruit'}\n",
      "{'brimstone', 'overly', 'tropical', 'apple', 'expressive', 'sage', 'acidity', 'palate', 'dried', 'herb', 'citrus', 'fruit', 'brisk', 'aromas', 'unripened', 'broom'}\n"
     ]
    }
   ],
   "source": [
    "# Compare input description and most similar description\n",
    "new_set = set(new_description.split()) - stop_words\n",
    "print(new_set)\n",
    "similar_set = set(lemmatized_descriptions[most_similar_index].split()) - stop_words\n",
    "print(similar_set)"
   ]
  },
  {
   "cell_type": "code",
   "execution_count": 56,
   "metadata": {},
   "outputs": [
    {
     "data": {
      "text/plain": [
       "{'apple', 'brimstone', 'citrus', 'fruit', 'herb', 'sage'}"
      ]
     },
     "execution_count": 56,
     "metadata": {},
     "output_type": "execute_result"
    }
   ],
   "source": [
    "# Extract the shared words\n",
    "common_words = new_set & similar_set\n",
    "common_words"
   ]
  },
  {
   "cell_type": "code",
   "execution_count": 57,
   "metadata": {},
   "outputs": [
    {
     "data": {
      "text/plain": [
       "Unnamed: 0                                                               0\n",
       "country                                                              Italy\n",
       "description              Aromas include tropical fruit, broom, brimston...\n",
       "designation                                                   Vulkà Bianco\n",
       "points                                                                  87\n",
       "price                                                                  NaN\n",
       "province                                                 Sicily & Sardinia\n",
       "region_1                                                              Etna\n",
       "region_2                                                               NaN\n",
       "taster_name                                                  Kerin O’Keefe\n",
       "taster_twitter_handle                                         @kerinokeefe\n",
       "title                                    Nicosia 2013 Vulkà Bianco  (Etna)\n",
       "variety                                                        White Blend\n",
       "winery                                                             Nicosia\n",
       "Name: 0, dtype: object"
      ]
     },
     "execution_count": 57,
     "metadata": {},
     "output_type": "execute_result"
    }
   ],
   "source": [
    "# Give info for the most similar wine\n",
    "most_similar_wine = wine.iloc[most_similar_index]\n",
    "most_similar_wine"
   ]
  },
  {
   "cell_type": "code",
   "execution_count": 144,
   "metadata": {},
   "outputs": [
    {
     "data": {
      "text/html": [
       "<div>\n",
       "<style scoped>\n",
       "    .dataframe tbody tr th:only-of-type {\n",
       "        vertical-align: middle;\n",
       "    }\n",
       "\n",
       "    .dataframe tbody tr th {\n",
       "        vertical-align: top;\n",
       "    }\n",
       "\n",
       "    .dataframe thead th {\n",
       "        text-align: right;\n",
       "    }\n",
       "</style>\n",
       "<table border=\"1\" class=\"dataframe\">\n",
       "  <thead>\n",
       "    <tr style=\"text-align: right;\">\n",
       "      <th></th>\n",
       "      <th>Unnamed: 0</th>\n",
       "      <th>country</th>\n",
       "      <th>description</th>\n",
       "      <th>designation</th>\n",
       "      <th>points</th>\n",
       "      <th>price</th>\n",
       "      <th>province</th>\n",
       "      <th>region_1</th>\n",
       "      <th>region_2</th>\n",
       "      <th>taster_name</th>\n",
       "      <th>taster_twitter_handle</th>\n",
       "      <th>title</th>\n",
       "      <th>variety</th>\n",
       "      <th>winery</th>\n",
       "    </tr>\n",
       "  </thead>\n",
       "  <tbody>\n",
       "    <tr>\n",
       "      <td>0</td>\n",
       "      <td>0</td>\n",
       "      <td>Italy</td>\n",
       "      <td>Aromas include tropical fruit, broom, brimston...</td>\n",
       "      <td>Vulkà Bianco</td>\n",
       "      <td>87</td>\n",
       "      <td>NaN</td>\n",
       "      <td>Sicily &amp; Sardinia</td>\n",
       "      <td>Etna</td>\n",
       "      <td>NaN</td>\n",
       "      <td>Kerin O’Keefe</td>\n",
       "      <td>@kerinokeefe</td>\n",
       "      <td>Nicosia 2013 Vulkà Bianco  (Etna)</td>\n",
       "      <td>White Blend</td>\n",
       "      <td>Nicosia</td>\n",
       "    </tr>\n",
       "    <tr>\n",
       "      <td>124533</td>\n",
       "      <td>124533</td>\n",
       "      <td>Italy</td>\n",
       "      <td>This Sicilian Inzolia releases fresh aromas of...</td>\n",
       "      <td>NaN</td>\n",
       "      <td>85</td>\n",
       "      <td>12.0</td>\n",
       "      <td>Sicily &amp; Sardinia</td>\n",
       "      <td>Sicilia</td>\n",
       "      <td>NaN</td>\n",
       "      <td>NaN</td>\n",
       "      <td>NaN</td>\n",
       "      <td>D'Alessandro 2010 Inzolia (Sicilia)</td>\n",
       "      <td>Inzolia</td>\n",
       "      <td>D'Alessandro</td>\n",
       "    </tr>\n",
       "    <tr>\n",
       "      <td>43376</td>\n",
       "      <td>43376</td>\n",
       "      <td>US</td>\n",
       "      <td>Very dry and slightly musty, the fruit tastes ...</td>\n",
       "      <td>NaN</td>\n",
       "      <td>84</td>\n",
       "      <td>10.0</td>\n",
       "      <td>Idaho</td>\n",
       "      <td>Idaho</td>\n",
       "      <td>NaN</td>\n",
       "      <td>Paul Gregutt</td>\n",
       "      <td>@paulgwine</td>\n",
       "      <td>Ste. Chapelle 1999 Chardonnay (Idaho)</td>\n",
       "      <td>Chardonnay</td>\n",
       "      <td>Ste. Chapelle</td>\n",
       "    </tr>\n",
       "  </tbody>\n",
       "</table>\n",
       "</div>"
      ],
      "text/plain": [
       "        Unnamed: 0 country                                        description  \\\n",
       "0                0   Italy  Aromas include tropical fruit, broom, brimston...   \n",
       "124533      124533   Italy  This Sicilian Inzolia releases fresh aromas of...   \n",
       "43376        43376      US  Very dry and slightly musty, the fruit tastes ...   \n",
       "\n",
       "         designation  points  price           province region_1 region_2  \\\n",
       "0       Vulkà Bianco      87    NaN  Sicily & Sardinia     Etna      NaN   \n",
       "124533           NaN      85   12.0  Sicily & Sardinia  Sicilia      NaN   \n",
       "43376            NaN      84   10.0              Idaho    Idaho      NaN   \n",
       "\n",
       "          taster_name taster_twitter_handle  \\\n",
       "0       Kerin O’Keefe          @kerinokeefe   \n",
       "124533            NaN                   NaN   \n",
       "43376    Paul Gregutt           @paulgwine    \n",
       "\n",
       "                                        title      variety         winery  \n",
       "0           Nicosia 2013 Vulkà Bianco  (Etna)  White Blend        Nicosia  \n",
       "124533    D'Alessandro 2010 Inzolia (Sicilia)      Inzolia   D'Alessandro  \n",
       "43376   Ste. Chapelle 1999 Chardonnay (Idaho)   Chardonnay  Ste. Chapelle  "
      ]
     },
     "execution_count": 144,
     "metadata": {},
     "output_type": "execute_result"
    }
   ],
   "source": [
    "# Returns top 3 most similar wines\n",
    "most_similar_wines = wine.iloc[most_similar_indices]\n",
    "most_similar_wines"
   ]
  },
  {
   "cell_type": "code",
   "execution_count": null,
   "metadata": {},
   "outputs": [],
   "source": []
  },
  {
   "cell_type": "code",
   "execution_count": null,
   "metadata": {},
   "outputs": [],
   "source": [
    "# I love comments! #"
   ]
  },
  {
   "cell_type": "code",
   "execution_count": 58,
   "metadata": {},
   "outputs": [
    {
     "data": {
      "text/plain": [
       "Unnamed: 0                                                           33553\n",
       "country                                                        New Zealand\n",
       "description              You've got to dig for them a little, but event...\n",
       "designation                                                            NaN\n",
       "points                                                                  88\n",
       "price                                                                   18\n",
       "province                                                       Marlborough\n",
       "region_1                                                               NaN\n",
       "region_2                                                               NaN\n",
       "taster_name                                                            NaN\n",
       "taster_twitter_handle                                                  NaN\n",
       "title                      Kim Crawford 2016 Sauvignon Blanc (Marlborough)\n",
       "variety                                                    Sauvignon Blanc\n",
       "winery                                                        Kim Crawford\n",
       "Name: 33553, dtype: object"
      ]
     },
     "execution_count": 58,
     "metadata": {},
     "output_type": "execute_result"
    }
   ],
   "source": [
    "wine.iloc[33553]"
   ]
  },
  {
   "cell_type": "code",
   "execution_count": 162,
   "metadata": {},
   "outputs": [
    {
     "data": {
      "text/plain": [
       "(array([  2216,   4015,  12554,  33553,  34962,  40110,  45075,  50338,\n",
       "         77468,  80525,  80647,  86112, 105094, 106158, 111590, 113882,\n",
       "        115882, 123017, 126534, 129848]),)"
      ]
     },
     "execution_count": 162,
     "metadata": {},
     "output_type": "execute_result"
    }
   ],
   "source": [
    "#np.where(wine['title'].str.contains('Kim Crawford'))"
   ]
  },
  {
   "cell_type": "code",
   "execution_count": 161,
   "metadata": {},
   "outputs": [
    {
     "data": {
      "text/plain": [
       "(array([33553]),)"
      ]
     },
     "execution_count": 161,
     "metadata": {},
     "output_type": "execute_result"
    }
   ],
   "source": [
    "#np.where(wine['title'].str.contains('Kim Crawford 2016 Sauvignon Blanc'))"
   ]
  },
  {
   "cell_type": "code",
   "execution_count": null,
   "metadata": {},
   "outputs": [],
   "source": [
    "#instantiating and generating the count matrix\n",
    "count_vectorizer = CountVectorizer()\n",
    "count_matrix = count_vectorizer.fit_transform(wine['title'])\n",
    "#count_matrix.todense()"
   ]
  },
  {
   "cell_type": "code",
   "execution_count": 193,
   "metadata": {},
   "outputs": [],
   "source": [
    "search_title = 'Kim Crawford Sauvignon Blanc'\n",
    "search_title_vector = count_vectorizer.transform([new_title])"
   ]
  },
  {
   "cell_type": "code",
   "execution_count": 194,
   "metadata": {},
   "outputs": [
    {
     "data": {
      "text/plain": [
       "'Kim Crawford Sauvignon Blanc'"
      ]
     },
     "execution_count": 194,
     "metadata": {},
     "output_type": "execute_result"
    }
   ],
   "source": [
    "search_title_cosine = cosine_similarity(search_title_vector, count_matrix)\n",
    "search_title"
   ]
  },
  {
   "cell_type": "code",
   "execution_count": 195,
   "metadata": {},
   "outputs": [
    {
     "name": "stdout",
     "output_type": "stream",
     "text": [
      "80647\n"
     ]
    }
   ],
   "source": [
    "search_title_index = np.argsort(search_title_cosine)[0][-1]\n",
    "print(search_title_index)"
   ]
  },
  {
   "cell_type": "code",
   "execution_count": 196,
   "metadata": {},
   "outputs": [
    {
     "data": {
      "text/plain": [
       "Unnamed: 0                                                           80647\n",
       "country                                                        New Zealand\n",
       "description              This medium-bodied Sauvignon Blanc strums the ...\n",
       "designation                                                            NaN\n",
       "points                                                                  90\n",
       "price                                                                   19\n",
       "province                                                       Marlborough\n",
       "region_1                                                               NaN\n",
       "region_2                                                               NaN\n",
       "taster_name                                                 Joe Czerwinski\n",
       "taster_twitter_handle                                               @JoeCz\n",
       "title                      Kim Crawford 2008 Sauvignon Blanc (Marlborough)\n",
       "variety                                                    Sauvignon Blanc\n",
       "winery                                                        Kim Crawford\n",
       "Name: 80647, dtype: object"
      ]
     },
     "execution_count": 196,
     "metadata": {},
     "output_type": "execute_result"
    }
   ],
   "source": [
    "wine.iloc[80647]"
   ]
  },
  {
   "cell_type": "code",
   "execution_count": 197,
   "metadata": {},
   "outputs": [
    {
     "data": {
      "text/plain": [
       "'bodied sauvignon blanc strums wine finishes long crushed tomato leaf right chords pristine cleanliness pretty melody creaminesss rounds combining notes citrusy fruit midpalate medium make hint'"
      ]
     },
     "execution_count": 197,
     "metadata": {},
     "output_type": "execute_result"
    }
   ],
   "source": [
    "search_title_description = ' '.join(descriptions[search_title_index])\n",
    "search_title_description"
   ]
  },
  {
   "cell_type": "code",
   "execution_count": 198,
   "metadata": {},
   "outputs": [
    {
     "data": {
      "text/plain": [
       "'bodied sauvignon blanc strums wine finishes long crushed tomato leaf right chords pristine cleanliness pretty melody creaminesss rounds combining notes citrusy fruit midpalate medium make hint'"
      ]
     },
     "execution_count": 198,
     "metadata": {},
     "output_type": "execute_result"
    }
   ],
   "source": [
    "search_title_description = search_title_description.lower()\n",
    "search_title_description = ''.join([i for i in search_title_description if i in 'abcdefghijklmnopqrstuvwxzy '])\n",
    "search_title_description = map(lemmatizer.lemmatize, search_title_description)\n",
    "search_title_description = ''.join(map(stemmer.stem, search_title_description))\n",
    "search_title_description"
   ]
  },
  {
   "cell_type": "code",
   "execution_count": 199,
   "metadata": {},
   "outputs": [
    {
     "data": {
      "text/plain": [
       "<1x2500 sparse matrix of type '<class 'numpy.float64'>'\n",
       "\twith 19 stored elements in Compressed Sparse Row format>"
      ]
     },
     "execution_count": 199,
     "metadata": {},
     "output_type": "execute_result"
    }
   ],
   "source": [
    "new_title_vector = tfidf_vectorizer.transform([search_title_description])\n",
    "new_title_vector"
   ]
  },
  {
   "cell_type": "code",
   "execution_count": 200,
   "metadata": {},
   "outputs": [
    {
     "data": {
      "text/plain": [
       "array([[0.06131393, 0.        , 0.        , ..., 0.        , 0.        ,\n",
       "        0.05735393]])"
      ]
     },
     "execution_count": 200,
     "metadata": {},
     "output_type": "execute_result"
    }
   ],
   "source": [
    "new_title_similarities = cosine_similarity(new_title_vector, tfidf_matrix)\n",
    "new_title_similarities"
   ]
  },
  {
   "cell_type": "code",
   "execution_count": 208,
   "metadata": {},
   "outputs": [
    {
     "name": "stdout",
     "output_type": "stream",
     "text": [
      "37261\n",
      "[ 37261 109718  80278]\n"
     ]
    }
   ],
   "source": [
    "title_most_similar_index = np.argsort(new_title_similarities)[0][-2]\n",
    "title_most_similar_indices = np.argsort(new_title_similarities)[0][-2:-5:-1]\n",
    "print(title_most_similar_index)\n",
    "print(title_most_similar_indices)"
   ]
  },
  {
   "cell_type": "code",
   "execution_count": 209,
   "metadata": {},
   "outputs": [
    {
     "name": "stdout",
     "output_type": "stream",
     "text": [
      "{'midpalate', 'creaminesss', 'strums', 'blanc', 'tomato', 'make', 'crushed', 'notes', 'chords', 'pretty', 'fruit', 'combining', 'rounds', 'finishes', 'citrusy', 'right', 'bodied', 'long', 'sauvignon', 'melody', 'pristine', 'leaf', 'cleanliness', 'hint', 'medium'}\n",
      "{'blend', 'tomato', 'pea', 'blanc', 'notes', 'hit', 'herbal', 'fruit', 'slightly', 'right', 'bodied', 'sauvignon', 'stone', 'leaf', 'hint', 'grapefruit', 'snow', 'medium', 'plump'}\n"
     ]
    }
   ],
   "source": [
    "new_set_title = set(search_title_description.split()) - stop_words\n",
    "print(new_set_title)\n",
    "similar_set_title = set(lemmatized_descriptions[title_most_similar_index].split()) - stop_words\n",
    "print(similar_set_title)"
   ]
  },
  {
   "cell_type": "code",
   "execution_count": 210,
   "metadata": {},
   "outputs": [
    {
     "data": {
      "text/plain": [
       "{'blanc',\n",
       " 'bodied',\n",
       " 'fruit',\n",
       " 'hint',\n",
       " 'leaf',\n",
       " 'medium',\n",
       " 'notes',\n",
       " 'right',\n",
       " 'sauvignon',\n",
       " 'tomato'}"
      ]
     },
     "execution_count": 210,
     "metadata": {},
     "output_type": "execute_result"
    }
   ],
   "source": [
    "common_words_title = new_set_title & similar_set_title\n",
    "common_words_title"
   ]
  },
  {
   "cell_type": "code",
   "execution_count": 212,
   "metadata": {},
   "outputs": [
    {
     "data": {
      "text/html": [
       "<div>\n",
       "<style scoped>\n",
       "    .dataframe tbody tr th:only-of-type {\n",
       "        vertical-align: middle;\n",
       "    }\n",
       "\n",
       "    .dataframe tbody tr th {\n",
       "        vertical-align: top;\n",
       "    }\n",
       "\n",
       "    .dataframe thead th {\n",
       "        text-align: right;\n",
       "    }\n",
       "</style>\n",
       "<table border=\"1\" class=\"dataframe\">\n",
       "  <thead>\n",
       "    <tr style=\"text-align: right;\">\n",
       "      <th></th>\n",
       "      <th>Unnamed: 0</th>\n",
       "      <th>country</th>\n",
       "      <th>description</th>\n",
       "      <th>designation</th>\n",
       "      <th>points</th>\n",
       "      <th>price</th>\n",
       "      <th>province</th>\n",
       "      <th>region_1</th>\n",
       "      <th>region_2</th>\n",
       "      <th>taster_name</th>\n",
       "      <th>taster_twitter_handle</th>\n",
       "      <th>title</th>\n",
       "      <th>variety</th>\n",
       "      <th>winery</th>\n",
       "    </tr>\n",
       "  </thead>\n",
       "  <tbody>\n",
       "    <tr>\n",
       "      <td>37261</td>\n",
       "      <td>37261</td>\n",
       "      <td>New Zealand</td>\n",
       "      <td>This is a medium-bodied, slightly plump Sauvig...</td>\n",
       "      <td>NaN</td>\n",
       "      <td>88</td>\n",
       "      <td>15.0</td>\n",
       "      <td>Marlborough</td>\n",
       "      <td>NaN</td>\n",
       "      <td>NaN</td>\n",
       "      <td>Joe Czerwinski</td>\n",
       "      <td>@JoeCz</td>\n",
       "      <td>Twin Islands 2013 Sauvignon Blanc (Marlborough)</td>\n",
       "      <td>Sauvignon Blanc</td>\n",
       "      <td>Twin Islands</td>\n",
       "    </tr>\n",
       "    <tr>\n",
       "      <td>109718</td>\n",
       "      <td>109718</td>\n",
       "      <td>New Zealand</td>\n",
       "      <td>This is a medium-bodied, slightly plump Sauvig...</td>\n",
       "      <td>NaN</td>\n",
       "      <td>88</td>\n",
       "      <td>15.0</td>\n",
       "      <td>Marlborough</td>\n",
       "      <td>NaN</td>\n",
       "      <td>NaN</td>\n",
       "      <td>Joe Czerwinski</td>\n",
       "      <td>@JoeCz</td>\n",
       "      <td>Twin Islands 2013 Sauvignon Blanc (Marlborough)</td>\n",
       "      <td>Sauvignon Blanc</td>\n",
       "      <td>Twin Islands</td>\n",
       "    </tr>\n",
       "    <tr>\n",
       "      <td>80278</td>\n",
       "      <td>80278</td>\n",
       "      <td>New Zealand</td>\n",
       "      <td>This is on the more herbal side of the Sauvign...</td>\n",
       "      <td>Single Vineyard</td>\n",
       "      <td>88</td>\n",
       "      <td>15.0</td>\n",
       "      <td>Marlborough</td>\n",
       "      <td>NaN</td>\n",
       "      <td>NaN</td>\n",
       "      <td>Joe Czerwinski</td>\n",
       "      <td>@JoeCz</td>\n",
       "      <td>Mount Fishtail 2014 Single Vineyard Sauvignon ...</td>\n",
       "      <td>Sauvignon Blanc</td>\n",
       "      <td>Mount Fishtail</td>\n",
       "    </tr>\n",
       "  </tbody>\n",
       "</table>\n",
       "</div>"
      ],
      "text/plain": [
       "        Unnamed: 0      country  \\\n",
       "37261        37261  New Zealand   \n",
       "109718      109718  New Zealand   \n",
       "80278        80278  New Zealand   \n",
       "\n",
       "                                              description      designation  \\\n",
       "37261   This is a medium-bodied, slightly plump Sauvig...              NaN   \n",
       "109718  This is a medium-bodied, slightly plump Sauvig...              NaN   \n",
       "80278   This is on the more herbal side of the Sauvign...  Single Vineyard   \n",
       "\n",
       "        points  price     province region_1 region_2     taster_name  \\\n",
       "37261       88   15.0  Marlborough      NaN      NaN  Joe Czerwinski   \n",
       "109718      88   15.0  Marlborough      NaN      NaN  Joe Czerwinski   \n",
       "80278       88   15.0  Marlborough      NaN      NaN  Joe Czerwinski   \n",
       "\n",
       "       taster_twitter_handle  \\\n",
       "37261                 @JoeCz   \n",
       "109718                @JoeCz   \n",
       "80278                 @JoeCz   \n",
       "\n",
       "                                                    title          variety  \\\n",
       "37261     Twin Islands 2013 Sauvignon Blanc (Marlborough)  Sauvignon Blanc   \n",
       "109718    Twin Islands 2013 Sauvignon Blanc (Marlborough)  Sauvignon Blanc   \n",
       "80278   Mount Fishtail 2014 Single Vineyard Sauvignon ...  Sauvignon Blanc   \n",
       "\n",
       "                winery  \n",
       "37261     Twin Islands  \n",
       "109718    Twin Islands  \n",
       "80278   Mount Fishtail  "
      ]
     },
     "execution_count": 212,
     "metadata": {},
     "output_type": "execute_result"
    }
   ],
   "source": [
    "most_similar_wines_title = wine.iloc[title_most_similar_indices]\n",
    "most_similar_wines_title"
   ]
  },
  {
   "cell_type": "code",
   "execution_count": null,
   "metadata": {},
   "outputs": [],
   "source": []
  },
  {
   "cell_type": "code",
   "execution_count": null,
   "metadata": {},
   "outputs": [],
   "source": []
  },
  {
   "cell_type": "code",
   "execution_count": null,
   "metadata": {},
   "outputs": [],
   "source": []
  },
  {
   "cell_type": "code",
   "execution_count": 186,
   "metadata": {},
   "outputs": [
    {
     "data": {
      "text/plain": [
       "Unnamed: 0                                                          123017\n",
       "country                                                        New Zealand\n",
       "description              Grassy, herbal notes accent grapefruit and lim...\n",
       "designation                                         Small Parcels Spitfire\n",
       "points                                                                  90\n",
       "price                                                                   26\n",
       "province                                                       Marlborough\n",
       "region_1                                                               NaN\n",
       "region_2                                                               NaN\n",
       "taster_name                                                 Joe Czerwinski\n",
       "taster_twitter_handle                                               @JoeCz\n",
       "title                    Kim Crawford 2014 Small Parcels Spitfire Sauvi...\n",
       "variety                                                    Sauvignon Blanc\n",
       "winery                                                        Kim Crawford\n",
       "Name: 123017, dtype: object"
      ]
     },
     "execution_count": 186,
     "metadata": {},
     "output_type": "execute_result"
    }
   ],
   "source": [
    "most_similar_title_wine = wine.iloc[most_similar_title_index]\n",
    "most_similar_title_wine"
   ]
  }
 ],
 "metadata": {
  "kernelspec": {
   "display_name": "Python 3",
   "language": "python",
   "name": "python3"
  },
  "language_info": {
   "codemirror_mode": {
    "name": "ipython",
    "version": 3
   },
   "file_extension": ".py",
   "mimetype": "text/x-python",
   "name": "python",
   "nbconvert_exporter": "python",
   "pygments_lexer": "ipython3",
   "version": "3.7.4"
  }
 },
 "nbformat": 4,
 "nbformat_minor": 2
}
